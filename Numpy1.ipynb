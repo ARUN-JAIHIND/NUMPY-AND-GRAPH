{
 "cells": [
  {
   "cell_type": "code",
   "execution_count": 1,
   "id": "9e51c907",
   "metadata": {},
   "outputs": [],
   "source": [
    "import numpy as np"
   ]
  },
  {
   "cell_type": "code",
   "execution_count": 2,
   "id": "cd70d3bc",
   "metadata": {},
   "outputs": [],
   "source": [
    "l=[1,2,3,4,5,6]"
   ]
  },
  {
   "cell_type": "code",
   "execution_count": 3,
   "id": "631e4723",
   "metadata": {},
   "outputs": [
    {
     "data": {
      "text/plain": [
       "array([1, 2, 3, 4, 5, 6])"
      ]
     },
     "execution_count": 3,
     "metadata": {},
     "output_type": "execute_result"
    }
   ],
   "source": [
    "np.array(l)"
   ]
  },
  {
   "cell_type": "code",
   "execution_count": 4,
   "id": "42967744",
   "metadata": {},
   "outputs": [],
   "source": [
    "l1=[\"arun\",2,4,5,9968.6,True]"
   ]
  },
  {
   "cell_type": "code",
   "execution_count": 5,
   "id": "05f4f65e",
   "metadata": {},
   "outputs": [],
   "source": [
    "a1=np.array(l1)"
   ]
  },
  {
   "cell_type": "code",
   "execution_count": 6,
   "id": "c0d3c9ae",
   "metadata": {},
   "outputs": [
    {
     "data": {
      "text/plain": [
       "array(['arun', '2', '4', '5', '9968.6', 'True'], dtype='<U32')"
      ]
     },
     "execution_count": 6,
     "metadata": {},
     "output_type": "execute_result"
    }
   ],
   "source": [
    "a1"
   ]
  },
  {
   "cell_type": "code",
   "execution_count": 7,
   "id": "37095fe6",
   "metadata": {},
   "outputs": [
    {
     "data": {
      "text/plain": [
       "numpy.ndarray"
      ]
     },
     "execution_count": 7,
     "metadata": {},
     "output_type": "execute_result"
    }
   ],
   "source": [
    "type(a1)"
   ]
  },
  {
   "cell_type": "code",
   "execution_count": 8,
   "id": "8824fa6a",
   "metadata": {},
   "outputs": [],
   "source": [
    "a2=np.array([[1,2,3],[4,5,6]])"
   ]
  },
  {
   "cell_type": "code",
   "execution_count": 9,
   "id": "3d0f3482",
   "metadata": {},
   "outputs": [],
   "source": [
    "a3=np.array([[[1,3,4],[4,5,6],[7,8,9]]])"
   ]
  },
  {
   "cell_type": "code",
   "execution_count": 10,
   "id": "b15fb83a",
   "metadata": {},
   "outputs": [
    {
     "data": {
      "text/plain": [
       "array([[1, 2, 3],\n",
       "       [4, 5, 6]])"
      ]
     },
     "execution_count": 10,
     "metadata": {},
     "output_type": "execute_result"
    }
   ],
   "source": [
    "a2"
   ]
  },
  {
   "cell_type": "code",
   "execution_count": 11,
   "id": "2c9f3830",
   "metadata": {},
   "outputs": [
    {
     "data": {
      "text/plain": [
       "array([[[1, 3, 4],\n",
       "        [4, 5, 6],\n",
       "        [7, 8, 9]]])"
      ]
     },
     "execution_count": 11,
     "metadata": {},
     "output_type": "execute_result"
    }
   ],
   "source": [
    "a3"
   ]
  },
  {
   "cell_type": "code",
   "execution_count": 13,
   "id": "b7471e72",
   "metadata": {},
   "outputs": [
    {
     "data": {
      "text/plain": [
       "1"
      ]
     },
     "execution_count": 13,
     "metadata": {},
     "output_type": "execute_result"
    }
   ],
   "source": [
    "#dim used for shows the dimension of array\n",
    "a1.ndim"
   ]
  },
  {
   "cell_type": "code",
   "execution_count": 14,
   "id": "90d54f99",
   "metadata": {},
   "outputs": [
    {
     "data": {
      "text/plain": [
       "2"
      ]
     },
     "execution_count": 14,
     "metadata": {},
     "output_type": "execute_result"
    }
   ],
   "source": [
    "a2.ndim"
   ]
  },
  {
   "cell_type": "code",
   "execution_count": 15,
   "id": "72a021e6",
   "metadata": {},
   "outputs": [
    {
     "data": {
      "text/plain": [
       "3"
      ]
     },
     "execution_count": 15,
     "metadata": {},
     "output_type": "execute_result"
    }
   ],
   "source": [
    "a3.ndim"
   ]
  },
  {
   "cell_type": "code",
   "execution_count": 17,
   "id": "e06650b0",
   "metadata": {},
   "outputs": [
    {
     "data": {
      "text/plain": [
       "6"
      ]
     },
     "execution_count": 17,
     "metadata": {},
     "output_type": "execute_result"
    }
   ],
   "source": [
    "#size command shows the no.of element in the array\n",
    "a1.size"
   ]
  },
  {
   "cell_type": "code",
   "execution_count": 18,
   "id": "e3df4a1a",
   "metadata": {},
   "outputs": [
    {
     "data": {
      "text/plain": [
       "6"
      ]
     },
     "execution_count": 18,
     "metadata": {},
     "output_type": "execute_result"
    }
   ],
   "source": [
    "a2.size"
   ]
  },
  {
   "cell_type": "code",
   "execution_count": 19,
   "id": "d8d9f692",
   "metadata": {},
   "outputs": [
    {
     "data": {
      "text/plain": [
       "9"
      ]
     },
     "execution_count": 19,
     "metadata": {},
     "output_type": "execute_result"
    }
   ],
   "source": [
    "a3.size"
   ]
  },
  {
   "cell_type": "code",
   "execution_count": 21,
   "id": "e7cf852c",
   "metadata": {},
   "outputs": [
    {
     "data": {
      "text/plain": [
       "(6,)"
      ]
     },
     "execution_count": 21,
     "metadata": {},
     "output_type": "execute_result"
    }
   ],
   "source": [
    "a1.shape"
   ]
  },
  {
   "cell_type": "code",
   "execution_count": 22,
   "id": "083aa211",
   "metadata": {},
   "outputs": [
    {
     "data": {
      "text/plain": [
       "(2, 3)"
      ]
     },
     "execution_count": 22,
     "metadata": {},
     "output_type": "execute_result"
    }
   ],
   "source": [
    "a2.shape"
   ]
  },
  {
   "cell_type": "code",
   "execution_count": 23,
   "id": "a3383300",
   "metadata": {},
   "outputs": [
    {
     "data": {
      "text/plain": [
       "(1, 3, 3)"
      ]
     },
     "execution_count": 23,
     "metadata": {},
     "output_type": "execute_result"
    }
   ],
   "source": [
    "# inthis example 3,3 shows the no. of rows  and no. of columns \n",
    "a3.shape"
   ]
  },
  {
   "cell_type": "code",
   "execution_count": 24,
   "id": "f158b3dd",
   "metadata": {},
   "outputs": [
    {
     "data": {
      "text/plain": [
       "array([[ 4, 18, 34,  4],\n",
       "       [10,  6,  7, 16],\n",
       "       [47,  5, 10, 12]])"
      ]
     },
     "execution_count": 24,
     "metadata": {},
     "output_type": "execute_result"
    }
   ],
   "source": [
    "np.random.randint(3,50,(3,4))"
   ]
  },
  {
   "cell_type": "code",
   "execution_count": 25,
   "id": "8d800cd6",
   "metadata": {},
   "outputs": [
    {
     "data": {
      "text/plain": [
       "array([[0.01871405, 0.22981603, 0.51636882, 0.55752572],\n",
       "       [0.27855486, 0.62722916, 0.85740784, 0.41952366],\n",
       "       [0.44040629, 0.684785  , 0.48443268, 0.15145852],\n",
       "       [0.84011888, 0.60001837, 0.27965501, 0.57299276],\n",
       "       [0.0822437 , 0.21613433, 0.16292603, 0.51634995]])"
      ]
     },
     "execution_count": 25,
     "metadata": {},
     "output_type": "execute_result"
    }
   ],
   "source": [
    "np.random.rand(5,4)"
   ]
  },
  {
   "cell_type": "code",
   "execution_count": 26,
   "id": "f2ea88a4",
   "metadata": {},
   "outputs": [],
   "source": [
    "a4=np.random.randn(4,4)"
   ]
  },
  {
   "cell_type": "code",
   "execution_count": 27,
   "id": "796c4259",
   "metadata": {},
   "outputs": [
    {
     "data": {
      "text/plain": [
       "array([[-2.00332113, -0.09959506, -0.5426018 ,  0.06299922],\n",
       "       [ 0.4037467 ,  1.21635067, -0.13025586, -0.86157063],\n",
       "       [ 1.0164471 , -1.08266644,  0.66602827,  0.60691225],\n",
       "       [-0.25049943,  0.04143612,  0.86780709, -0.71858936]])"
      ]
     },
     "execution_count": 27,
     "metadata": {},
     "output_type": "execute_result"
    }
   ],
   "source": [
    "a4"
   ]
  },
  {
   "cell_type": "code",
   "execution_count": 29,
   "id": "4af82cc4",
   "metadata": {},
   "outputs": [
    {
     "data": {
      "text/plain": [
       "array([[-2.00332113, -0.09959506, -0.5426018 ,  0.06299922,  0.4037467 ,\n",
       "         1.21635067, -0.13025586, -0.86157063],\n",
       "       [ 1.0164471 , -1.08266644,  0.66602827,  0.60691225, -0.25049943,\n",
       "         0.04143612,  0.86780709, -0.71858936]])"
      ]
     },
     "execution_count": 29,
     "metadata": {},
     "output_type": "execute_result"
    }
   ],
   "source": [
    "#for reshape must have no.of element should be same as pervious \n",
    "a4.reshape(2,8)"
   ]
  },
  {
   "cell_type": "code",
   "execution_count": 30,
   "id": "c3283e9f",
   "metadata": {},
   "outputs": [
    {
     "data": {
      "text/plain": [
       "array([[-2.00332113, -0.09959506],\n",
       "       [-0.5426018 ,  0.06299922],\n",
       "       [ 0.4037467 ,  1.21635067],\n",
       "       [-0.13025586, -0.86157063],\n",
       "       [ 1.0164471 , -1.08266644],\n",
       "       [ 0.66602827,  0.60691225],\n",
       "       [-0.25049943,  0.04143612],\n",
       "       [ 0.86780709, -0.71858936]])"
      ]
     },
     "execution_count": 30,
     "metadata": {},
     "output_type": "execute_result"
    }
   ],
   "source": [
    "a4.reshape(8,2)"
   ]
  },
  {
   "cell_type": "code",
   "execution_count": 31,
   "id": "dad895ba",
   "metadata": {},
   "outputs": [
    {
     "data": {
      "text/plain": [
       "array([[-2.00332113],\n",
       "       [-0.09959506],\n",
       "       [-0.5426018 ],\n",
       "       [ 0.06299922],\n",
       "       [ 0.4037467 ],\n",
       "       [ 1.21635067],\n",
       "       [-0.13025586],\n",
       "       [-0.86157063],\n",
       "       [ 1.0164471 ],\n",
       "       [-1.08266644],\n",
       "       [ 0.66602827],\n",
       "       [ 0.60691225],\n",
       "       [-0.25049943],\n",
       "       [ 0.04143612],\n",
       "       [ 0.86780709],\n",
       "       [-0.71858936]])"
      ]
     },
     "execution_count": 31,
     "metadata": {},
     "output_type": "execute_result"
    }
   ],
   "source": [
    "a4.reshape(16,1)"
   ]
  },
  {
   "cell_type": "code",
   "execution_count": 33,
   "id": "7b5ec84e",
   "metadata": {},
   "outputs": [
    {
     "data": {
      "text/plain": [
       "array([[-2.00332113, -0.09959506, -0.5426018 ,  0.06299922,  0.4037467 ,\n",
       "         1.21635067, -0.13025586, -0.86157063],\n",
       "       [ 1.0164471 , -1.08266644,  0.66602827,  0.60691225, -0.25049943,\n",
       "         0.04143612,  0.86780709, -0.71858936]])"
      ]
     },
     "execution_count": 33,
     "metadata": {},
     "output_type": "execute_result"
    }
   ],
   "source": [
    "a4.reshape(2,-1345643649999)"
   ]
  },
  {
   "cell_type": "code",
   "execution_count": 38,
   "id": "845ef7bf",
   "metadata": {},
   "outputs": [
    {
     "data": {
      "text/plain": [
       "array([[-2.00332113, -0.09959506, -0.5426018 ,  0.06299922,  0.4037467 ,\n",
       "         1.21635067, -0.13025586, -0.86157063],\n",
       "       [ 1.0164471 , -1.08266644,  0.66602827,  0.60691225, -0.25049943,\n",
       "         0.04143612,  0.86780709, -0.71858936]])"
      ]
     },
     "execution_count": 38,
     "metadata": {},
     "output_type": "execute_result"
    }
   ],
   "source": [
    "a4.reshape(2,-1)"
   ]
  },
  {
   "cell_type": "code",
   "execution_count": 39,
   "id": "2cff3f72",
   "metadata": {},
   "outputs": [
    {
     "data": {
      "text/plain": [
       "array([[-2.00332113, -0.09959506],\n",
       "       [-0.5426018 ,  0.06299922],\n",
       "       [ 0.4037467 ,  1.21635067],\n",
       "       [-0.13025586, -0.86157063],\n",
       "       [ 1.0164471 , -1.08266644],\n",
       "       [ 0.66602827,  0.60691225],\n",
       "       [-0.25049943,  0.04143612],\n",
       "       [ 0.86780709, -0.71858936]])"
      ]
     },
     "execution_count": 39,
     "metadata": {},
     "output_type": "execute_result"
    }
   ],
   "source": [
    "a4.reshape(8,-1)"
   ]
  },
  {
   "cell_type": "code",
   "execution_count": 40,
   "id": "9e835a40",
   "metadata": {},
   "outputs": [
    {
     "data": {
      "text/plain": [
       "array([[-2.00332113],\n",
       "       [-0.09959506],\n",
       "       [-0.5426018 ],\n",
       "       [ 0.06299922],\n",
       "       [ 0.4037467 ],\n",
       "       [ 1.21635067],\n",
       "       [-0.13025586],\n",
       "       [-0.86157063],\n",
       "       [ 1.0164471 ],\n",
       "       [-1.08266644],\n",
       "       [ 0.66602827],\n",
       "       [ 0.60691225],\n",
       "       [-0.25049943],\n",
       "       [ 0.04143612],\n",
       "       [ 0.86780709],\n",
       "       [-0.71858936]])"
      ]
     },
     "execution_count": 40,
     "metadata": {},
     "output_type": "execute_result"
    }
   ],
   "source": [
    "a4.reshape(16,-1)"
   ]
  },
  {
   "cell_type": "code",
   "execution_count": 41,
   "id": "1263723c",
   "metadata": {},
   "outputs": [
    {
     "data": {
      "text/plain": [
       "array(['arun', '2', '4', '5', '9968.6', 'True'], dtype='<U32')"
      ]
     },
     "execution_count": 41,
     "metadata": {},
     "output_type": "execute_result"
    }
   ],
   "source": [
    "a1"
   ]
  },
  {
   "cell_type": "code",
   "execution_count": 42,
   "id": "ab4010e4",
   "metadata": {},
   "outputs": [
    {
     "data": {
      "text/plain": [
       "'arun'"
      ]
     },
     "execution_count": 42,
     "metadata": {},
     "output_type": "execute_result"
    }
   ],
   "source": [
    "a1[0]"
   ]
  },
  {
   "cell_type": "code",
   "execution_count": 43,
   "id": "7518a092",
   "metadata": {},
   "outputs": [
    {
     "data": {
      "text/plain": [
       "array(['4', '5', '9968.6', 'True'], dtype='<U32')"
      ]
     },
     "execution_count": 43,
     "metadata": {},
     "output_type": "execute_result"
    }
   ],
   "source": [
    "a1[2:6]"
   ]
  },
  {
   "cell_type": "code",
   "execution_count": 44,
   "id": "e8e19654",
   "metadata": {},
   "outputs": [
    {
     "data": {
      "text/plain": [
       "array(['4', '9968.6'], dtype='<U32')"
      ]
     },
     "execution_count": 44,
     "metadata": {},
     "output_type": "execute_result"
    }
   ],
   "source": [
    "a1[2:6:2]"
   ]
  },
  {
   "cell_type": "code",
   "execution_count": 45,
   "id": "53c932c1",
   "metadata": {},
   "outputs": [
    {
     "data": {
      "text/plain": [
       "array(['True', '9968.6', '5', '4', '2', 'arun'], dtype='<U32')"
      ]
     },
     "execution_count": 45,
     "metadata": {},
     "output_type": "execute_result"
    }
   ],
   "source": [
    "a1[::-1]"
   ]
  },
  {
   "cell_type": "code",
   "execution_count": 46,
   "id": "bf45555d",
   "metadata": {},
   "outputs": [
    {
     "data": {
      "text/plain": [
       "array([[[1, 3, 4],\n",
       "        [4, 5, 6],\n",
       "        [7, 8, 9]]])"
      ]
     },
     "execution_count": 46,
     "metadata": {},
     "output_type": "execute_result"
    }
   ],
   "source": [
    "a3"
   ]
  },
  {
   "cell_type": "code",
   "execution_count": 47,
   "id": "2679bc48",
   "metadata": {},
   "outputs": [
    {
     "data": {
      "text/plain": [
       "array([[1, 2, 3],\n",
       "       [4, 5, 6]])"
      ]
     },
     "execution_count": 47,
     "metadata": {},
     "output_type": "execute_result"
    }
   ],
   "source": [
    "a2"
   ]
  },
  {
   "cell_type": "code",
   "execution_count": 55,
   "id": "d20f1c06",
   "metadata": {},
   "outputs": [
    {
     "data": {
      "text/plain": [
       "array([[2, 3],\n",
       "       [5, 6]])"
      ]
     },
     "execution_count": 55,
     "metadata": {},
     "output_type": "execute_result"
    }
   ],
   "source": [
    "  a2[:,1:]"
   ]
  },
  {
   "cell_type": "code",
   "execution_count": 62,
   "id": "2e1569ab",
   "metadata": {},
   "outputs": [
    {
     "data": {
      "text/plain": [
       "array([[2, 3],\n",
       "       [5, 6]])"
      ]
     },
     "execution_count": 62,
     "metadata": {},
     "output_type": "execute_result"
    }
   ],
   "source": [
    "a2[:,[1,2]]"
   ]
  },
  {
   "cell_type": "code",
   "execution_count": 66,
   "id": "b8bd604f",
   "metadata": {},
   "outputs": [
    {
     "data": {
      "text/plain": [
       "array([[1, 3],\n",
       "       [4, 6]])"
      ]
     },
     "execution_count": 66,
     "metadata": {},
     "output_type": "execute_result"
    }
   ],
   "source": [
    "a2[:,[0,2]]"
   ]
  },
  {
   "cell_type": "code",
   "execution_count": 67,
   "id": "84cd83bb",
   "metadata": {},
   "outputs": [
    {
     "data": {
      "text/plain": [
       "array([[2, 3],\n",
       "       [5, 6]])"
      ]
     },
     "execution_count": 67,
     "metadata": {},
     "output_type": "execute_result"
    }
   ],
   "source": [
    "a2[[0,1],1:]"
   ]
  },
  {
   "cell_type": "code",
   "execution_count": 68,
   "id": "bc6f5dd3",
   "metadata": {},
   "outputs": [],
   "source": [
    "#genrate random no. b/w 2 to 90 \n",
    "a5=np.random.randint(2,90,(6,5))"
   ]
  },
  {
   "cell_type": "code",
   "execution_count": 69,
   "id": "0dea7ac4",
   "metadata": {},
   "outputs": [
    {
     "data": {
      "text/plain": [
       "array([[12, 63, 41, 15, 65],\n",
       "       [ 6, 13, 39, 43, 71],\n",
       "       [51, 28, 73, 40, 71],\n",
       "       [59,  7, 69, 20, 79],\n",
       "       [71, 17, 68, 15, 12],\n",
       "       [54, 24, 72, 59, 62]])"
      ]
     },
     "execution_count": 69,
     "metadata": {},
     "output_type": "execute_result"
    }
   ],
   "source": [
    "a5"
   ]
  },
  {
   "cell_type": "code",
   "execution_count": 70,
   "id": "d29307a1",
   "metadata": {},
   "outputs": [
    {
     "data": {
      "text/plain": [
       "array([63, 65, 71, 51, 73, 71, 59, 69, 79, 71, 68, 54, 72, 59, 62])"
      ]
     },
     "execution_count": 70,
     "metadata": {},
     "output_type": "execute_result"
    }
   ],
   "source": [
    "a5[a5>50]"
   ]
  },
  {
   "cell_type": "code",
   "execution_count": 71,
   "id": "8a58f685",
   "metadata": {},
   "outputs": [
    {
     "data": {
      "text/plain": [
       "array([[12, 63, 41, 15, 65],\n",
       "       [ 6, 13, 39, 43, 71],\n",
       "       [51, 28, 73, 40, 71],\n",
       "       [59,  7, 69, 20, 79],\n",
       "       [71, 17, 68, 15, 12],\n",
       "       [54, 24, 72, 59, 62]])"
      ]
     },
     "execution_count": 71,
     "metadata": {},
     "output_type": "execute_result"
    }
   ],
   "source": [
    "a5"
   ]
  },
  {
   "cell_type": "code",
   "execution_count": 72,
   "id": "008a7625",
   "metadata": {},
   "outputs": [],
   "source": [
    "a5[0,1]=100"
   ]
  },
  {
   "cell_type": "code",
   "execution_count": 73,
   "id": "5b038a3c",
   "metadata": {},
   "outputs": [
    {
     "data": {
      "text/plain": [
       "array([[ 12, 100,  41,  15,  65],\n",
       "       [  6,  13,  39,  43,  71],\n",
       "       [ 51,  28,  73,  40,  71],\n",
       "       [ 59,   7,  69,  20,  79],\n",
       "       [ 71,  17,  68,  15,  12],\n",
       "       [ 54,  24,  72,  59,  62]])"
      ]
     },
     "execution_count": 73,
     "metadata": {},
     "output_type": "execute_result"
    }
   ],
   "source": [
    "a5"
   ]
  },
  {
   "cell_type": "code",
   "execution_count": 74,
   "id": "2676a9fd",
   "metadata": {},
   "outputs": [],
   "source": [
    "a6=np.random.randint(0,3,(3,3))"
   ]
  },
  {
   "cell_type": "code",
   "execution_count": 75,
   "id": "266d34e4",
   "metadata": {},
   "outputs": [],
   "source": [
    "a7=np.random.randint(0,3,(3,3))"
   ]
  },
  {
   "cell_type": "code",
   "execution_count": 76,
   "id": "f18d5328",
   "metadata": {},
   "outputs": [
    {
     "data": {
      "text/plain": [
       "array([[1, 1, 0],\n",
       "       [2, 1, 2],\n",
       "       [0, 1, 1]])"
      ]
     },
     "execution_count": 76,
     "metadata": {},
     "output_type": "execute_result"
    }
   ],
   "source": [
    "a6"
   ]
  },
  {
   "cell_type": "code",
   "execution_count": 77,
   "id": "2117842e",
   "metadata": {},
   "outputs": [
    {
     "data": {
      "text/plain": [
       "array([[0, 1, 0],\n",
       "       [0, 2, 2],\n",
       "       [2, 1, 2]])"
      ]
     },
     "execution_count": 77,
     "metadata": {},
     "output_type": "execute_result"
    }
   ],
   "source": [
    "a7"
   ]
  },
  {
   "cell_type": "code",
   "execution_count": 79,
   "id": "061f71ec",
   "metadata": {},
   "outputs": [
    {
     "data": {
      "text/plain": [
       "array([[0, 1, 0],\n",
       "       [0, 2, 4],\n",
       "       [0, 1, 2]])"
      ]
     },
     "execution_count": 79,
     "metadata": {},
     "output_type": "execute_result"
    }
   ],
   "source": [
    "# '*' is for element wise multiplication of matrix\n",
    "a6*a7"
   ]
  },
  {
   "cell_type": "code",
   "execution_count": 80,
   "id": "e5930a44",
   "metadata": {},
   "outputs": [
    {
     "data": {
      "text/plain": [
       "array([[0, 3, 2],\n",
       "       [4, 6, 6],\n",
       "       [2, 3, 4]])"
      ]
     },
     "execution_count": 80,
     "metadata": {},
     "output_type": "execute_result"
    }
   ],
   "source": [
    "# '@'command used for matrix multiplication\n",
    "a6@a7"
   ]
  },
  {
   "cell_type": "code",
   "execution_count": 81,
   "id": "e804b00c",
   "metadata": {},
   "outputs": [
    {
     "data": {
      "text/plain": [
       "array([[1, 1, 0],\n",
       "       [2, 1, 2],\n",
       "       [0, 1, 1]])"
      ]
     },
     "execution_count": 81,
     "metadata": {},
     "output_type": "execute_result"
    }
   ],
   "source": [
    "a6"
   ]
  },
  {
   "cell_type": "code",
   "execution_count": 82,
   "id": "4312d812",
   "metadata": {},
   "outputs": [
    {
     "data": {
      "text/plain": [
       "array([[101, 101, 100],\n",
       "       [102, 101, 102],\n",
       "       [100, 101, 101]])"
      ]
     },
     "execution_count": 82,
     "metadata": {},
     "output_type": "execute_result"
    }
   ],
   "source": [
    "a6+100"
   ]
  },
  {
   "cell_type": "code",
   "execution_count": 83,
   "id": "97ec890d",
   "metadata": {},
   "outputs": [
    {
     "name": "stderr",
     "output_type": "stream",
     "text": [
      "C:\\Users\\MIET\\AppData\\Local\\Temp\\ipykernel_4004\\1058679823.py:1: RuntimeWarning: divide by zero encountered in true_divide\n",
      "  a6/0\n",
      "C:\\Users\\MIET\\AppData\\Local\\Temp\\ipykernel_4004\\1058679823.py:1: RuntimeWarning: invalid value encountered in true_divide\n",
      "  a6/0\n"
     ]
    },
    {
     "data": {
      "text/plain": [
       "array([[inf, inf, nan],\n",
       "       [inf, inf, inf],\n",
       "       [nan, inf, inf]])"
      ]
     },
     "execution_count": 83,
     "metadata": {},
     "output_type": "execute_result"
    }
   ],
   "source": [
    "a6/0"
   ]
  },
  {
   "cell_type": "code",
   "execution_count": 84,
   "id": "bef7c640",
   "metadata": {},
   "outputs": [
    {
     "data": {
      "text/plain": [
       "array([[1, 1, 0],\n",
       "       [8, 1, 8],\n",
       "       [0, 1, 1]], dtype=int32)"
      ]
     },
     "execution_count": 84,
     "metadata": {},
     "output_type": "execute_result"
    }
   ],
   "source": [
    "#'**' for power of each element\n",
    "a6**3"
   ]
  },
  {
   "cell_type": "code",
   "execution_count": 85,
   "id": "5ec1fe4d",
   "metadata": {},
   "outputs": [],
   "source": [
    "a8=np.zeros((4,4))"
   ]
  },
  {
   "cell_type": "code",
   "execution_count": 86,
   "id": "1ed35783",
   "metadata": {},
   "outputs": [
    {
     "data": {
      "text/plain": [
       "array([[0., 0., 0., 0.],\n",
       "       [0., 0., 0., 0.],\n",
       "       [0., 0., 0., 0.],\n",
       "       [0., 0., 0., 0.]])"
      ]
     },
     "execution_count": 86,
     "metadata": {},
     "output_type": "execute_result"
    }
   ],
   "source": [
    "a8"
   ]
  },
  {
   "cell_type": "code",
   "execution_count": 87,
   "id": "d04bf1b5",
   "metadata": {},
   "outputs": [],
   "source": [
    "a9=np.ones((4,5))"
   ]
  },
  {
   "cell_type": "code",
   "execution_count": 88,
   "id": "7dffd081",
   "metadata": {},
   "outputs": [
    {
     "data": {
      "text/plain": [
       "array([[1., 1., 1., 1., 1.],\n",
       "       [1., 1., 1., 1., 1.],\n",
       "       [1., 1., 1., 1., 1.],\n",
       "       [1., 1., 1., 1., 1.]])"
      ]
     },
     "execution_count": 88,
     "metadata": {},
     "output_type": "execute_result"
    }
   ],
   "source": [
    "a9"
   ]
  },
  {
   "cell_type": "code",
   "execution_count": 89,
   "id": "e0598a17",
   "metadata": {},
   "outputs": [
    {
     "data": {
      "text/plain": [
       "array([[11., 11., 11., 11., 11.],\n",
       "       [11., 11., 11., 11., 11.],\n",
       "       [11., 11., 11., 11., 11.],\n",
       "       [11., 11., 11., 11., 11.]])"
      ]
     },
     "execution_count": 89,
     "metadata": {},
     "output_type": "execute_result"
    }
   ],
   "source": [
    "a9+10"
   ]
  },
  {
   "cell_type": "code",
   "execution_count": 91,
   "id": "a3d08a9c",
   "metadata": {},
   "outputs": [
    {
     "data": {
      "text/plain": [
       "array([[2., 3., 4., 5., 6.],\n",
       "       [2., 3., 4., 5., 6.],\n",
       "       [2., 3., 4., 5., 6.],\n",
       "       [2., 3., 4., 5., 6.]])"
      ]
     },
     "execution_count": 91,
     "metadata": {},
     "output_type": "execute_result"
    }
   ],
   "source": [
    "a9+np.array([1,2,3,4,5])"
   ]
  },
  {
   "cell_type": "code",
   "execution_count": 92,
   "id": "c9a1327c",
   "metadata": {},
   "outputs": [
    {
     "data": {
      "text/plain": [
       "array([1, 2, 3, 4, 5])"
      ]
     },
     "execution_count": 92,
     "metadata": {},
     "output_type": "execute_result"
    }
   ],
   "source": [
    "np.array([1,2,3,4,5]).T"
   ]
  },
  {
   "cell_type": "code",
   "execution_count": 93,
   "id": "5753ebc9",
   "metadata": {},
   "outputs": [
    {
     "data": {
      "text/plain": [
       "array([[1],\n",
       "       [2],\n",
       "       [3],\n",
       "       [4],\n",
       "       [5]])"
      ]
     },
     "execution_count": 93,
     "metadata": {},
     "output_type": "execute_result"
    }
   ],
   "source": [
    "#'T'command use for Transpose.\n",
    "# for transpose min two dimension is needed\n",
    "np.array([[1,2,3,4,5]]).T"
   ]
  },
  {
   "cell_type": "code",
   "execution_count": 95,
   "id": "ac81ae76",
   "metadata": {},
   "outputs": [
    {
     "data": {
      "text/plain": [
       "array([[2., 2., 2., 2., 2.],\n",
       "       [3., 3., 3., 3., 3.],\n",
       "       [4., 4., 4., 4., 4.],\n",
       "       [5., 5., 5., 5., 5.]])"
      ]
     },
     "execution_count": 95,
     "metadata": {},
     "output_type": "execute_result"
    }
   ],
   "source": [
    "np.array([[1,2,3,4]]).T +a9"
   ]
  },
  {
   "cell_type": "code",
   "execution_count": 97,
   "id": "06d653e6",
   "metadata": {},
   "outputs": [
    {
     "data": {
      "text/plain": [
       "array([[2., 2., 2., 2., 2.],\n",
       "       [3., 3., 3., 3., 3.],\n",
       "       [4., 4., 4., 4., 4.],\n",
       "       [5., 5., 5., 5., 5.]])"
      ]
     },
     "execution_count": 97,
     "metadata": {},
     "output_type": "execute_result"
    }
   ],
   "source": [
    "a9+np.array([[1,2,3,4]]).T"
   ]
  },
  {
   "cell_type": "code",
   "execution_count": 98,
   "id": "2a7df777",
   "metadata": {},
   "outputs": [
    {
     "data": {
      "text/plain": [
       "array([[1, 2, 0],\n",
       "       [1, 1, 1],\n",
       "       [0, 2, 1]])"
      ]
     },
     "execution_count": 98,
     "metadata": {},
     "output_type": "execute_result"
    }
   ],
   "source": [
    "a6.T"
   ]
  },
  {
   "cell_type": "code",
   "execution_count": 99,
   "id": "eed75ca4",
   "metadata": {},
   "outputs": [
    {
     "data": {
      "text/plain": [
       "array([[1, 1, 0],\n",
       "       [2, 1, 2],\n",
       "       [0, 1, 1]])"
      ]
     },
     "execution_count": 99,
     "metadata": {},
     "output_type": "execute_result"
    }
   ],
   "source": [
    "a6"
   ]
  },
  {
   "cell_type": "code",
   "execution_count": 100,
   "id": "512ba1b1",
   "metadata": {},
   "outputs": [
    {
     "data": {
      "text/plain": [
       "array([[ 12, 100,  41,  15,  65],\n",
       "       [  6,  13,  39,  43,  71],\n",
       "       [ 51,  28,  73,  40,  71],\n",
       "       [ 59,   7,  69,  20,  79],\n",
       "       [ 71,  17,  68,  15,  12],\n",
       "       [ 54,  24,  72,  59,  62]])"
      ]
     },
     "execution_count": 100,
     "metadata": {},
     "output_type": "execute_result"
    }
   ],
   "source": [
    "a5"
   ]
  },
  {
   "cell_type": "code",
   "execution_count": 101,
   "id": "637bad52",
   "metadata": {},
   "outputs": [
    {
     "data": {
      "text/plain": [
       "array([[ 3.46410162, 10.        ,  6.40312424,  3.87298335,  8.06225775],\n",
       "       [ 2.44948974,  3.60555128,  6.244998  ,  6.55743852,  8.42614977],\n",
       "       [ 7.14142843,  5.29150262,  8.54400375,  6.32455532,  8.42614977],\n",
       "       [ 7.68114575,  2.64575131,  8.30662386,  4.47213595,  8.88819442],\n",
       "       [ 8.42614977,  4.12310563,  8.24621125,  3.87298335,  3.46410162],\n",
       "       [ 7.34846923,  4.89897949,  8.48528137,  7.68114575,  7.87400787]])"
      ]
     },
     "execution_count": 101,
     "metadata": {},
     "output_type": "execute_result"
    }
   ],
   "source": [
    "np.sqrt(a5)"
   ]
  },
  {
   "cell_type": "code",
   "execution_count": 102,
   "id": "c86dae25",
   "metadata": {},
   "outputs": [
    {
     "data": {
      "text/plain": [
       "array([[1.62754791e+05, 2.68811714e+43, 6.39843494e+17, 3.26901737e+06,\n",
       "        1.69488924e+28],\n",
       "       [4.03428793e+02, 4.42413392e+05, 8.65934004e+16, 4.72783947e+18,\n",
       "        6.83767123e+30],\n",
       "       [1.40934908e+22, 1.44625706e+12, 5.05239363e+31, 2.35385267e+17,\n",
       "        6.83767123e+30],\n",
       "       [4.20121040e+25, 1.09663316e+03, 9.25378173e+29, 4.85165195e+08,\n",
       "        2.03828107e+34],\n",
       "       [6.83767123e+30, 2.41549528e+07, 3.40427605e+29, 3.26901737e+06,\n",
       "        1.62754791e+05],\n",
       "       [2.83075330e+23, 2.64891221e+10, 1.85867175e+31, 4.20121040e+25,\n",
       "        8.43835667e+26]])"
      ]
     },
     "execution_count": 102,
     "metadata": {},
     "output_type": "execute_result"
    }
   ],
   "source": [
    "np.exp(a5)"
   ]
  },
  {
   "cell_type": "code",
   "execution_count": 103,
   "id": "ab76104c",
   "metadata": {},
   "outputs": [
    {
     "data": {
      "text/plain": [
       "array([[1.07918125, 2.        , 1.61278386, 1.17609126, 1.81291336],\n",
       "       [0.77815125, 1.11394335, 1.59106461, 1.63346846, 1.85125835],\n",
       "       [1.70757018, 1.44715803, 1.86332286, 1.60205999, 1.85125835],\n",
       "       [1.77085201, 0.84509804, 1.83884909, 1.30103   , 1.89762709],\n",
       "       [1.85125835, 1.23044892, 1.83250891, 1.17609126, 1.07918125],\n",
       "       [1.73239376, 1.38021124, 1.8573325 , 1.77085201, 1.79239169]])"
      ]
     },
     "execution_count": 103,
     "metadata": {},
     "output_type": "execute_result"
    }
   ],
   "source": [
    "np.log10(a5)"
   ]
  },
  {
   "cell_type": "code",
   "execution_count": 104,
   "id": "11aa7aa4",
   "metadata": {},
   "outputs": [
    {
     "data": {
      "text/plain": [
       "[0, 1, 2, 3, 4, 5, 6, 7, 8, 9]"
      ]
     },
     "execution_count": 104,
     "metadata": {},
     "output_type": "execute_result"
    }
   ],
   "source": [
    "list(range(0,10))"
   ]
  },
  {
   "cell_type": "code",
   "execution_count": 105,
   "id": "59cf213f",
   "metadata": {},
   "outputs": [
    {
     "data": {
      "text/plain": [
       "[0, 2, 4, 6, 8]"
      ]
     },
     "execution_count": 105,
     "metadata": {},
     "output_type": "execute_result"
    }
   ],
   "source": [
    "list(range(0,10,2))"
   ]
  },
  {
   "cell_type": "code",
   "execution_count": 106,
   "id": "20b2d996",
   "metadata": {},
   "outputs": [
    {
     "data": {
      "text/plain": [
       "array([1.8, 4.3, 6.8, 9.3])"
      ]
     },
     "execution_count": 106,
     "metadata": {},
     "output_type": "execute_result"
    }
   ],
   "source": [
    "np.arange(1.8,10.7,2.5)"
   ]
  },
  {
   "cell_type": "code",
   "execution_count": 107,
   "id": "cc49b55f",
   "metadata": {},
   "outputs": [
    {
     "data": {
      "text/plain": [
       "array([2.        , 2.02040816, 2.04081633, 2.06122449, 2.08163265,\n",
       "       2.10204082, 2.12244898, 2.14285714, 2.16326531, 2.18367347,\n",
       "       2.20408163, 2.2244898 , 2.24489796, 2.26530612, 2.28571429,\n",
       "       2.30612245, 2.32653061, 2.34693878, 2.36734694, 2.3877551 ,\n",
       "       2.40816327, 2.42857143, 2.44897959, 2.46938776, 2.48979592,\n",
       "       2.51020408, 2.53061224, 2.55102041, 2.57142857, 2.59183673,\n",
       "       2.6122449 , 2.63265306, 2.65306122, 2.67346939, 2.69387755,\n",
       "       2.71428571, 2.73469388, 2.75510204, 2.7755102 , 2.79591837,\n",
       "       2.81632653, 2.83673469, 2.85714286, 2.87755102, 2.89795918,\n",
       "       2.91836735, 2.93877551, 2.95918367, 2.97959184, 3.        ])"
      ]
     },
     "execution_count": 107,
     "metadata": {},
     "output_type": "execute_result"
    }
   ],
   "source": [
    "np.linspace(2,3,num=50)"
   ]
  },
  {
   "cell_type": "code",
   "execution_count": 108,
   "id": "15f954db",
   "metadata": {},
   "outputs": [
    {
     "data": {
      "text/plain": [
       "(array([2.        , 2.02040816, 2.04081633, 2.06122449, 2.08163265,\n",
       "        2.10204082, 2.12244898, 2.14285714, 2.16326531, 2.18367347,\n",
       "        2.20408163, 2.2244898 , 2.24489796, 2.26530612, 2.28571429,\n",
       "        2.30612245, 2.32653061, 2.34693878, 2.36734694, 2.3877551 ,\n",
       "        2.40816327, 2.42857143, 2.44897959, 2.46938776, 2.48979592,\n",
       "        2.51020408, 2.53061224, 2.55102041, 2.57142857, 2.59183673,\n",
       "        2.6122449 , 2.63265306, 2.65306122, 2.67346939, 2.69387755,\n",
       "        2.71428571, 2.73469388, 2.75510204, 2.7755102 , 2.79591837,\n",
       "        2.81632653, 2.83673469, 2.85714286, 2.87755102, 2.89795918,\n",
       "        2.91836735, 2.93877551, 2.95918367, 2.97959184, 3.        ]),\n",
       " 0.02040816326530612)"
      ]
     },
     "execution_count": 108,
     "metadata": {},
     "output_type": "execute_result"
    }
   ],
   "source": [
    "np.linspace(2,3,num=50,retstep=True)"
   ]
  },
  {
   "cell_type": "code",
   "execution_count": 109,
   "id": "d74225b0",
   "metadata": {},
   "outputs": [
    {
     "data": {
      "text/plain": [
       "array([  100.        ,   464.15888336,  2154.43469003, 10000.        ])"
      ]
     },
     "execution_count": 109,
     "metadata": {},
     "output_type": "execute_result"
    }
   ],
   "source": [
    "# 'logspace'Return numbers spaced evenly on a log scale.\n",
    "np.logspace(2,4,num=4,base=10)"
   ]
  },
  {
   "cell_type": "code",
   "execution_count": 110,
   "id": "25616dc1",
   "metadata": {},
   "outputs": [
    {
     "data": {
      "text/plain": [
       "array([[1., 0., 0., 0., 0.],\n",
       "       [0., 1., 0., 0., 0.],\n",
       "       [0., 0., 1., 0., 0.],\n",
       "       [0., 0., 0., 1., 0.],\n",
       "       [0., 0., 0., 0., 1.]])"
      ]
     },
     "execution_count": 110,
     "metadata": {},
     "output_type": "execute_result"
    }
   ],
   "source": [
    "np.eye(5)"
   ]
  },
  {
   "cell_type": "code",
   "execution_count": null,
   "id": "ffaecd27",
   "metadata": {},
   "outputs": [],
   "source": []
  }
 ],
 "metadata": {
  "kernelspec": {
   "display_name": "Python 3 (ipykernel)",
   "language": "python",
   "name": "python3"
  },
  "language_info": {
   "codemirror_mode": {
    "name": "ipython",
    "version": 3
   },
   "file_extension": ".py",
   "mimetype": "text/x-python",
   "name": "python",
   "nbconvert_exporter": "python",
   "pygments_lexer": "ipython3",
   "version": "3.9.12"
  }
 },
 "nbformat": 4,
 "nbformat_minor": 5
}
